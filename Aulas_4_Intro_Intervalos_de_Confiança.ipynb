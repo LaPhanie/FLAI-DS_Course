{
  "nbformat": 4,
  "nbformat_minor": 0,
  "metadata": {
    "colab": {
      "name": "Aulas_4_Intro_Intervalos_de_Confiança.ipynb",
      "provenance": [],
      "include_colab_link": true
    },
    "kernelspec": {
      "name": "python3",
      "display_name": "Python 3"
    },
    "language_info": {
      "name": "python"
    }
  },
  "cells": [
    {
      "cell_type": "markdown",
      "metadata": {
        "id": "view-in-github",
        "colab_type": "text"
      },
      "source": [
        "<a href=\"https://colab.research.google.com/github/LaPhanie/FLAI-DS_Course/blob/main/Aulas_4_Intro_Intervalos_de_Confian%C3%A7a.ipynb\" target=\"_parent\"><img src=\"https://colab.research.google.com/assets/colab-badge.svg\" alt=\"Open In Colab\"/></a>"
      ]
    },
    {
      "cell_type": "markdown",
      "metadata": {
        "id": "1WX_4kP3EmWz"
      },
      "source": [
        "# **Intervalos de Confiança**\n",
        "\n",
        "Este notebook de estudo refere-se as aulas 4.1, 4.2 e 4.3 da Trilha de Aprofundamente \"Testes AB\", do curso Dominando Data Science da Flai.\n",
        "https://www.flai.com.br/"
      ]
    },
    {
      "cell_type": "markdown",
      "metadata": {
        "id": "vVO9J5_gCAg-"
      },
      "source": [
        "# Exemplo 1 - População com Distribuição Normal com variância conhecida (Aula 4.1)\n",
        "\n",
        "A experiência com trabalhadores de certa indústria indica que o tempo necessário para que um trabalhador, aleatoriamente selecionado, realize uma determinada tarefa é aproximadamente normal, com desvio-padrão de aproximadamente 12 min.\n",
        "\n",
        "Uma amostra aleatória de 25 trabalhadores forneceu **$\\overline{x} = 140 min$**.\n",
        "\n",
        "Determine os limites de confiança de 99% para a média **$\\mu$** da população de todos os trabalhos que fazem este determinado serviço."
      ]
    },
    {
      "cell_type": "markdown",
      "metadata": {
        "id": "mQCz2wYBHB5o"
      },
      "source": [
        "## Solução:\n",
        "Neste exemplo podemos assumir a distribuição da populção como normal.\n",
        "\n",
        "Também conhecemos o desvio-padrão **$\\sigma^2 \\ = \\ 12 \\ min$**. \n",
        "\n",
        "Logo, a variância **$\\sigma \\ = \\ \\sqrt{12} \\ min$**.\n",
        "\n",
        "Se o limite de confiança é de 99%, **$\\alpha = 1 - 0.99 \\ = \\ 0.01$**. Logo, \n",
        "**$z_\\frac{\\alpha}{2} = 0.005$**.\n",
        "\n",
        "Para este caso, o intervalo de confiança é dado por:\n",
        "\n",
        "$$\n",
        "\\left[\\ \\bar{x} - z_\\frac{\\alpha}{2} \\frac{\\sigma_0}{\\sqrt{n}},\\ \\bar{x} + z_\\frac{\\alpha}{2} \\frac{\\sigma_0}{\\sqrt{n}}    \\right]\n",
        "$$\n"
      ]
    },
    {
      "cell_type": "code",
      "metadata": {
        "id": "3VOYAUGkyvkr"
      },
      "source": [
        "# Importando Bibliotecas\n",
        "import scipy.stats as ss\n",
        "import numpy as np"
      ],
      "execution_count": 1,
      "outputs": []
    },
    {
      "cell_type": "code",
      "metadata": {
        "colab": {
          "base_uri": "https://localhost:8080/"
        },
        "id": "zEZfFq_ihSOD",
        "outputId": "0cc98e2c-5254-4251-a296-5db92dc1e007"
      },
      "source": [
        "z_alpha_2 = ss.norm.ppf(0.995)\n",
        "x_médio = 140\n",
        "desvpad = 12\n",
        "n = 25\n",
        "# Calculando os Intervals de Confiança (IC)\n",
        "\n",
        "IC_inf = x_médio - (z_alpha_2*desvpad/np.sqrt(n)).round(2)\n",
        "IC_sup = x_médio + (z_alpha_2*desvpad/np.sqrt(n)).round(2)\n",
        "\n",
        "print('O intervalo de confiança de 99% é dado por [{}, {}].'.format(IC_inf, IC_sup))"
      ],
      "execution_count": 2,
      "outputs": [
        {
          "output_type": "stream",
          "text": [
            "O intervalo de confiança de 99% é dado por [133.82, 146.18].\n"
          ],
          "name": "stdout"
        }
      ]
    },
    {
      "cell_type": "markdown",
      "metadata": {
        "id": "gpkeZ6CbLzmI"
      },
      "source": [
        "**Notas sobre o método ( ).ppf**\n",
        "\n",
        "O método ppf (percent point function), calcula o percentil. Isto é, calcula a distribuição acumulada até um determinado ponto da curva de distribuição de probabilidade."
      ]
    },
    {
      "cell_type": "code",
      "metadata": {
        "id": "Gr4ewePzG_Iy",
        "colab": {
          "base_uri": "https://localhost:8080/"
        },
        "outputId": "9268d891-5576-4bd8-a872-30b02b516762"
      },
      "source": [
        "# Entrada: quantil. Saída: Ponto no qual o percentil (quantil) é atingido.\n",
        "ss.norm.ppf(0.5)\n",
        "# 0.5 da distribuição acumalada completa-se em z = 0."
      ],
      "execution_count": null,
      "outputs": [
        {
          "output_type": "execute_result",
          "data": {
            "text/plain": [
              "0.0"
            ]
          },
          "metadata": {},
          "execution_count": 2
        }
      ]
    },
    {
      "cell_type": "code",
      "metadata": {
        "colab": {
          "base_uri": "https://localhost:8080/"
        },
        "id": "egtCjRSZcu2O",
        "outputId": "8193b618-d381-47d0-d501-5f60c99a4b5c"
      },
      "source": [
        "# Encontra os pontos nos quais os percentis são iguais a 0.005 e 0.995\n",
        "# 0.995 é o finzinho da cauda da distribuição de probabilidades\n",
        "\n",
        "ss.norm.ppf([0.005, 1-0.005])"
      ],
      "execution_count": null,
      "outputs": [
        {
          "output_type": "execute_result",
          "data": {
            "text/plain": [
              "array([-2.5758293,  2.5758293])"
            ]
          },
          "metadata": {},
          "execution_count": 3
        }
      ]
    },
    {
      "cell_type": "code",
      "metadata": {
        "colab": {
          "base_uri": "https://localhost:8080/"
        },
        "id": "xzQRbHQnlrKX",
        "outputId": "8c899d46-c6f4-40f9-de26-0c8b4e198e6f"
      },
      "source": [
        "ss.norm.ppf(0.995)"
      ],
      "execution_count": null,
      "outputs": [
        {
          "output_type": "execute_result",
          "data": {
            "text/plain": [
              "2.5758293035489004"
            ]
          },
          "metadata": {},
          "execution_count": 4
        }
      ]
    },
    {
      "cell_type": "markdown",
      "metadata": {
        "id": "TMbqxHe9eFxP"
      },
      "source": [
        "## Função: IC_Normal_SigmaConhecida()\n",
        "\n",
        "Refatorando o código acima para torná-lo mais genérico."
      ]
    },
    {
      "cell_type": "code",
      "metadata": {
        "colab": {
          "base_uri": "https://localhost:8080/"
        },
        "id": "Tc0S-fcqfOli",
        "outputId": "8ef03027-7ad8-4f20-d5fd-e5cacf7fec2b"
      },
      "source": [
        "print(\n",
        "'Olá, \\nEste código calcucla o intervalo de confiança para a média de' \n",
        "'uma variável aleatória (VA) nos seguintes casos:'\n",
        "'\\n1. VA com distribuição normal e variância cohecida;'\n",
        "'\\n2. VA com distribuição não normal em amostras grandes (n >30).'\n",
        ")"
      ],
      "execution_count": 9,
      "outputs": [
        {
          "output_type": "stream",
          "text": [
            "Olá, \n",
            "Este código calcucla o intervalo de confiança para a média deuma variável aleatória (VA) nos seguintes casos:\n",
            "1. VA com distribuição normal e variância cohecida;\n",
            "2. VA com distribuição não normal em amostras grandes (n >30).\n"
          ],
          "name": "stdout"
        }
      ]
    },
    {
      "cell_type": "code",
      "metadata": {
        "colab": {
          "base_uri": "https://localhost:8080/"
        },
        "id": "6JpqYZSHHVUN",
        "outputId": "22b9a662-2622-4c25-b054-0d5d21d268df"
      },
      "source": [
        "def IC_Normal_SigmaConhecida():\n",
        "\n",
        "  print(\n",
        "  'Olá, \\nEste código calcucla o intervalo de confiança para a média de' \n",
        "  'uma variável aleatória (VA) \\nnos seguintes casos:'\n",
        "  '\\n1. VA com distribuição normal e variância cohecida;'\n",
        "  '\\n2. VA com distribuição não normal em amostras grandes (n >30).'\n",
        "  )\n",
        "  print()\n",
        "\n",
        "  grau_conf = float(input(\"Digite o grau de confiança desejado em porcentagem: \"))\n",
        "  x_médio = float(input('Digite a média da amostra: '))\n",
        "  desvpad = float(input ('Digite o desvio-padrão populacional: '))\n",
        "  n = float(input('Digite o tamanho da amostra: '))\n",
        "\n",
        "  alpha_2 = 1 - (1 - (grau_conf/100))/2\n",
        "  z_alpha_2 = ss.norm.ppf(alpha_2)\n",
        "\n",
        "  IC_inf = (x_médio - (z_alpha_2*desvpad/np.sqrt(n))).round(2)\n",
        "  IC_sup = (x_médio + (z_alpha_2*desvpad/np.sqrt(n))).round(2)\n",
        "\n",
        "  print()\n",
        "  print('O intervalo de confiança de {}% é dado por [{}, {}].'.format(grau_conf, IC_inf, IC_sup))\n",
        "  \n",
        "IC_Normal_SigmaConhecida()  "
      ],
      "execution_count": 11,
      "outputs": [
        {
          "output_type": "stream",
          "text": [
            "Olá, \n",
            "Este código calcucla o intervalo de confiança para a média deuma variável aleatória (VA) \n",
            "nos seguintes casos:\n",
            "1. VA com distribuição normal e variância cohecida;\n",
            "2. VA com distribuição não normal em amostras grandes (n >30).\n",
            "\n",
            "Digite o grau de confiança desejado em porcentagem: 99\n",
            "Digite a média da amostra: 140\n",
            "Digite o desvio-padrão populacional: 12\n",
            "Digite o tamanho da amostra: 25\n",
            "\n",
            "O intervalo de confiança de 99.0% é dado por [133.82, 146.18].\n"
          ],
          "name": "stdout"
        }
      ]
    },
    {
      "cell_type": "markdown",
      "metadata": {
        "id": "50pboZX2Xq76"
      },
      "source": [
        "## Exemplo 2 - População com Distribuição Normal e Variância NÃO conhecida (Aula 4.2)\n",
        "Deseja-se estimar o lucro médio mensal de uma empresa. \n",
        "Observou-se uma amostar aleatória de 25 meses, cujos resultados foram:\n",
        "\n",
        "*   lucro médio: 4.370,00;\n",
        "*   desvio-padrão: 418,00.\n",
        "\n",
        "Sabe-se que o lucro mensal comporta-se como uma distribuição normal.\n",
        "Encontre o intervalo de confiança para o lucro médio real, com uma confiança de 90%."
      ]
    },
    {
      "cell_type": "markdown",
      "metadata": {
        "id": "8x7amgooYoyE"
      },
      "source": [
        "### Solução:\n",
        "\n",
        "A amostra possui tamanho $n \\ = \\ 25$, isto é, $<\\ 30$, e não conhecemos a variância populacional, apenas a amostral. Portanto precisamos usar a distribuição T-Student.\n",
        "\n",
        "$\\bar{x} \\ = \\ 4370;$\n",
        "\n",
        "$S \\ = \\ 418;$\n",
        "\n",
        "$Confiança \\ = \\ 90%$\n",
        "\n",
        "$\\frac{\\alpha}{2} = (1 - 0.9)/2 \\ = 0.05$\n",
        "\n",
        "Para este caso o Intervalo de Confiança é dado por:\n",
        "\n",
        "$$\n",
        "\\left[\\ \\bar{x} - t_{n-1;\\frac{\\alpha}{2}} \\frac{S}{\\sqrt{n}},\\ \\bar{x} + t_{n-1;\\frac{\\alpha}{2}} \\frac{S}{\\sqrt{n}} \\right]\n",
        "$$\n"
      ]
    },
    {
      "cell_type": "code",
      "metadata": {
        "id": "kQwznj2YjqDq"
      },
      "source": [
        ""
      ],
      "execution_count": null,
      "outputs": []
    },
    {
      "cell_type": "markdown",
      "metadata": {
        "id": "hvTqFPImj2SU"
      },
      "source": [
        "##Função: IC_Normal_SigmaDesconhecida()\n"
      ]
    },
    {
      "cell_type": "code",
      "metadata": {
        "colab": {
          "base_uri": "https://localhost:8080/"
        },
        "id": "7bYbbYYq7UGg",
        "outputId": "e946a281-6505-40c3-b852-b104527800fd"
      },
      "source": [
        "def IC_Normal_SigmaDesconhecida():\n",
        "\n",
        "  print(\n",
        "  'Olá, \\nEste código calcula o intervalo de confiança para a média de' \n",
        "  'uma variável aleatória (VA) \\nno seguinte caso:'\n",
        "  '\\nVA com distribuição normal e variância populacional não conhecida.'\n",
        "  )\n",
        "  print()\n",
        "\n",
        "  grau_conf = float(input(\"Digite o grau de confiança desejado em porcentagem: \"))\n",
        "  x_médio = float(input('Digite a média da amostra: '))\n",
        "  desvpad_am = float(input ('Digite o desvio-padrão amostral: '))\n",
        "  n = float(input('Digite o tamanho da amostra: '))\n",
        "\n",
        "  alpha_2 = 1 - (1 - (grau_conf/100))/2\n",
        "  \n",
        "  # Calcula o ponto em que a acumulada é igual a alpha_2\n",
        "\n",
        "  # A PPF de T requer dois argumentos: o valor da acumulada,\n",
        "  # e o número de graus de liberdade (df: degrees of freedom)\n",
        "  t_alpha_2 = ss.t.ppf(alpha_2, df = n-1 )\n",
        "\n",
        "  IC_inf = (x_médio - (t_alpha_2*desvpad_am/np.sqrt(n))).round(2)\n",
        "  IC_sup = (x_médio + (t_alpha_2*desvpad_am/np.sqrt(n))).round(2)\n",
        "\n",
        "  print()\n",
        "  print('O intervalo de confiança de {}% é dado por [{}, {}].'.format(grau_conf, IC_inf, IC_sup))\n",
        "  \n",
        "IC_Normal_SigmaDesconhecida()  \n"
      ],
      "execution_count": 12,
      "outputs": [
        {
          "output_type": "stream",
          "text": [
            "Olá, \n",
            "Este código calcula o intervalo de confiança para a média deuma variável aleatória (VA) \n",
            "no seguinte caso:\n",
            "VA com distribuição normal e variância populacional não conhecida.\n",
            "\n",
            "Digite o grau de confiança desejado em porcentagem: 90\n",
            "Digite a média da amostra: 4370\n",
            "Digite o desvio-padrão amostral: 418\n",
            "Digite o tamanho da amostra: 25\n",
            "\n",
            "O intervalo de confiança de 90.0% é dado por [4226.97, 4513.03].\n"
          ],
          "name": "stdout"
        }
      ]
    },
    {
      "cell_type": "code",
      "metadata": {
        "colab": {
          "base_uri": "https://localhost:8080/"
        },
        "id": "JTEkFtXTkiWk",
        "outputId": "41b6ce29-5f25-41c2-db85-f4294b66ea6b"
      },
      "source": [
        "IC_Normal_SigmaDesconhecida()"
      ],
      "execution_count": 13,
      "outputs": [
        {
          "output_type": "stream",
          "text": [
            "Olá, \n",
            "Este código calcula o intervalo de confiança para a média deuma variável aleatória (VA) \n",
            "no seguinte caso:\n",
            "VA com distribuição normal e variância populacional não conhecida.\n",
            "\n",
            "Digite o grau de confiança desejado em porcentagem: 99\n",
            "Digite a média da amostra: 4370\n",
            "Digite o desvio-padrão amostral: 418\n",
            "Digite o tamanho da amostra: 25\n",
            "\n",
            "O intervalo de confiança de 99.0% é dado por [4136.18, 4603.82].\n"
          ],
          "name": "stdout"
        }
      ]
    },
    {
      "cell_type": "markdown",
      "metadata": {
        "id": "SVWvwEDIrZYS"
      },
      "source": [
        "## Exemplo 3 - Distribuição NÃO Normal, grandes amostras.\n",
        "\n",
        "Um fabricante deseja saber a estimativa intervalar para o tempo de vida útil médio das lâmpadas que produz, com um grau de confiança de 95%.\n",
        "\n",
        "Para obter esta estimativa, tomou uma amostra aleatória de 400 lâmpadas que fabrica, obtendo vida média de 1000 horas com desvio padrão de 200 horas."
      ]
    },
    {
      "cell_type": "markdown",
      "metadata": {
        "id": "A07E9JEGtKpz"
      },
      "source": [
        "### Solução:\n",
        "\n",
        "Neste caso, não se conhecem a variância nem a distribuição populacional, porém a amostra é suficientemente grande, para que a distribuição das médias amostrais convirjam para a distribuição normal.\n",
        "\n",
        "Assim podemos usar a função **IC_Normal_SigmaConhecida()** para calcular o Intervalo de Confiança."
      ]
    },
    {
      "cell_type": "code",
      "metadata": {
        "colab": {
          "base_uri": "https://localhost:8080/"
        },
        "id": "WjGlFYsbvonP",
        "outputId": "4f07202c-18cc-4b9f-e9aa-78b63c845d1b"
      },
      "source": [
        "IC_Normal_SigmaConhecida()"
      ],
      "execution_count": 14,
      "outputs": [
        {
          "output_type": "stream",
          "text": [
            "Olá, \n",
            "Este código calcucla o intervalo de confiança para a média deuma variável aleatória (VA) \n",
            "nos seguintes casos:\n",
            "1. VA com distribuição normal e variância cohecida;\n",
            "2. VA com distribuição não normal em amostras grandes (n >30).\n",
            "\n",
            "Digite o grau de confiança desejado em porcentagem: 95\n",
            "Digite a média da amostra: 1000\n",
            "Digite o desvio-padrão populacional: 200\n",
            "Digite o tamanho da amostra: 400\n",
            "\n",
            "O intervalo de confiança de 95.0% é dado por [980.4, 1019.6].\n"
          ],
          "name": "stdout"
        }
      ]
    },
    {
      "cell_type": "markdown",
      "metadata": {
        "id": "CHlSq3zp489o"
      },
      "source": [
        "Observamos que o IC ficou pequeno, isso ocorre por que o tamanho da amostra é grande.\n",
        "\n",
        "Podemos utilizar a distribuição t-Student, e avaliar o quanto ela converge para a distribuição normal quando n é suficientemente grande.\n"
      ]
    },
    {
      "cell_type": "code",
      "metadata": {
        "colab": {
          "base_uri": "https://localhost:8080/"
        },
        "id": "xpp4IRds6vB2",
        "outputId": "12658478-460f-4521-e80f-753ab9ffba1e"
      },
      "source": [
        "IC_Normal_SigmaDesconhecida()"
      ],
      "execution_count": 15,
      "outputs": [
        {
          "output_type": "stream",
          "text": [
            "Olá, \n",
            "Este código calcula o intervalo de confiança para a média deuma variável aleatória (VA) \n",
            "no seguinte caso:\n",
            "VA com distribuição normal e variância populacional não conhecida.\n",
            "\n",
            "Digite o grau de confiança desejado em porcentagem: 95\n",
            "Digite a média da amostra: 1000\n",
            "Digite o desvio-padrão amostral: 200\n",
            "Digite o tamanho da amostra: 400\n",
            "\n",
            "O intervalo de confiança de 95.0% é dado por [980.34, 1019.66].\n"
          ],
          "name": "stdout"
        }
      ]
    },
    {
      "cell_type": "markdown",
      "metadata": {
        "id": "eAeGyR-_7DkD"
      },
      "source": [
        "Observamos que os valores de IC estão muitos próximos, diferindo apenas nas casas decimais.\n",
        "IMPORTANTE: a distribuição t fornece valores mais exatos."
      ]
    },
    {
      "cell_type": "markdown",
      "metadata": {
        "id": "A_KFF9L-6R94"
      },
      "source": [
        "---"
      ]
    },
    {
      "cell_type": "markdown",
      "metadata": {
        "id": "aeOME03a6TWw"
      },
      "source": [
        "# Determinação de Tamanho Amostral\n",
        "\n",
        "Este é uma tema bastante complexo, e há diferentes formas para se calcular o tamanho de uma amostra.\n",
        "\n",
        "Neste caso, usaremos uma equação que calcula o tamanho da amostra independentemente do tamanho da população, com base no grau de confiança, na variância, e no erro máximo permitido.\n",
        "\n",
        "Na maioria das situações, a variância populacional é desconhecida, e seu valor precisa ser estimado. Algumas formas de se realizar esta estimativa são:\n",
        "\n",
        "*   através de estudos similares;\n",
        "*   através de dados históricos;\n",
        "*   realização de amostragem piloto.\n",
        "\n",
        "$$\n",
        "n = {\\left(\\frac{z_\\frac{\\alpha}{2} \\sigma}{e_{max}}\\right)}^2\n",
        "$$"
      ]
    },
    {
      "cell_type": "code",
      "metadata": {
        "colab": {
          "base_uri": "https://localhost:8080/"
        },
        "id": "qfgpqGv2s1an",
        "outputId": "0a0de6fa-b32c-4c7d-c8a1-08a8b094d787"
      },
      "source": [
        "def Tamanho_Amostra():\n",
        "\n",
        "  print(\n",
        "  'Olá, \\nEste código calcula o tamanho de amostra, para qualquer que seja o'\n",
        "  '\\ntamanho da população.\\n'\n",
        "  'É necessário fornecer o erro, e um valor estimado para o desvio padrão. \\n'\n",
        "  'Na maioria dos casos, o desvio-padrão populacional é desconhecido e precisa'\n",
        "  '\\nser estimado com base em valores obtidos a partir de estudos similares,'\n",
        "  '\\ndados históricos, ou realização de amostragem piloto.'\n",
        "  )\n",
        "  print()\n",
        "  \n",
        "  #variáveis de entrada\n",
        "  grau_conf = float(input(\"Digite o grau de confiança desejado em porcentagem: \"))\n",
        "  desvpad = float(input ('Digite o desvio-padrão amostral: '))\n",
        "  e_max = (float(input('Digite a margem de erro em porcentagem: ')))/100\n",
        "\n",
        "  #cálculos\n",
        "  alpha_2 = 1 - (1 - (grau_conf/100))/2\n",
        "  z_alpha_2 = ss.norm.ppf(alpha_2)\n",
        "  \n",
        "  n = (((z_alpha_2*desvpad)/e_max)**2).round(2)\n",
        "  \n",
        "  print('Nas condições apresentadas, o tamanho da amostra \"n\" é: ', round(n))\n",
        "  \n",
        "Tamanho_Amostra()"
      ],
      "execution_count": 9,
      "outputs": [
        {
          "output_type": "stream",
          "text": [
            "Olá, \n",
            "Este código calcula o tamanho de amostra, para qualquer que seja o\n",
            "tamanho da população.\n",
            "É necessário fornecer o erro, e um valor estimado para o desvio padrão. \n",
            "Na maioria dos casos, o desvio-padrão populacional é desconhecido e precisa\n",
            "ser estimado com base em valores obtidos a partir de estudos similares,\n",
            "dados históricos, ou realização de amostragem piloto.\n",
            "\n",
            "Digite o grau de confiança desejado em porcentagem: 95\n",
            "Digite o desvio-padrão amostral: 0.5\n",
            "Digite a margem de erro em porcentagem: 3\n",
            "Nas condições apresentadas, o tamanho da amostra \"n\" é:  1067\n"
          ],
          "name": "stdout"
        }
      ]
    }
  ]
}