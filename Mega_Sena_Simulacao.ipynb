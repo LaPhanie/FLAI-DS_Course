{
  "nbformat": 4,
  "nbformat_minor": 0,
  "metadata": {
    "colab": {
      "name": "Mega_Sena_Simulacao.ipynb",
      "provenance": [],
      "collapsed_sections": [],
      "authorship_tag": "ABX9TyPwL+VDBQOcJ2nkaHjYfQXG",
      "include_colab_link": true
    },
    "kernelspec": {
      "name": "python3",
      "display_name": "Python 3"
    }
  },
  "cells": [
    {
      "cell_type": "markdown",
      "metadata": {
        "id": "view-in-github",
        "colab_type": "text"
      },
      "source": [
        "<a href=\"https://colab.research.google.com/github/LaPhanie/Notebooks_de_Estudo_FLAI/blob/main/Mega_Sena_Simulacao.ipynb\" target=\"_parent\"><img src=\"https://colab.research.google.com/assets/colab-badge.svg\" alt=\"Open In Colab\"/></a>"
      ]
    },
    {
      "cell_type": "markdown",
      "metadata": {
        "id": "6D46v-jpolWe"
      },
      "source": [
        "# Simulação da Mega-Sena\n"
      ]
    },
    {
      "cell_type": "markdown",
      "metadata": {
        "id": "awX6ucdTGF1o"
      },
      "source": [
        "##LISTAS\n",
        "\n",
        "Para fazermos a simulação do jogo da mega-sena, iremos utilzar um objeto muito importante na programação em Python: Listas.\n",
        "\n",
        "Em Python, uma **lista** é uma **sequência** ou coleção **ordenada de valores**. Isto significa que **cada informação/valor** guardado em uma lista é **identificado por um índice**.\n",
        "\n",
        "Chamamos de **elementos** ou **itens** os valores pertencentes a uma lista.\n",
        "\n",
        "Os **índices vão de 0 até n**, onde **n é número de elementos** da lista.\n",
        "\n",
        "Podemos armazenar diferentes tipos de elementos em uma lista: *strings, ints, floats, etc.*\n",
        "\n",
        "O que torna as listas objetos tão interessantes é que como os elementos da lista estão ordenados e identificados através de um índice, isto é, estão indexados, **podemos \"chamar\" estes elementos através de sua indexação**. "
      ]
    },
    {
      "cell_type": "markdown",
      "source": [
        "Listas são criadas através de **colchetes [ ]**, dentro dos quais os elementos são colocados."
      ],
      "metadata": {
        "id": "wmOENAmqfiko"
      }
    },
    {
      "cell_type": "markdown",
      "source": [
        "Conheça mais sobre listas no link:\n",
        "\n",
        "[LISTAS - Pense como um Cientista da Computação com Python](https://panda.ime.usp.br/pensepy/static/pensepy/09-Listas/listas.html?highlight=iterar)"
      ],
      "metadata": {
        "id": "f5cmDi_Hdh_I"
      }
    },
    {
      "cell_type": "code",
      "metadata": {
        "id": "9cndxDQHGIik",
        "colab": {
          "base_uri": "https://localhost:8080/"
        },
        "outputId": "84d34024-a613-46ce-d457-520962465e0f"
      },
      "source": [
        "#cria uma lista\n",
        "lista = ['praia', 28, print]\n",
        "\n",
        "#chama o objeto lista\n",
        "lista"
      ],
      "execution_count": 3,
      "outputs": [
        {
          "output_type": "execute_result",
          "data": {
            "text/plain": [
              "['praia', 28, <function print>]"
            ]
          },
          "metadata": {},
          "execution_count": 3
        }
      ]
    },
    {
      "cell_type": "markdown",
      "source": [
        "Agora vamos verificar o tipo de cada elemento da lista usando a função **type( )** e chamando-os pelo seus respectivos índices. "
      ],
      "metadata": {
        "id": "TWBzqmYjKmKB"
      }
    },
    {
      "cell_type": "code",
      "metadata": {
        "id": "_SN--Sv0GfnB",
        "colab": {
          "base_uri": "https://localhost:8080/"
        },
        "outputId": "ad4ea965-a254-41fd-88d6-a5daef1248d8"
      },
      "source": [
        "print('O primeiro elemento da lista é do tipo:', type(lista[0]))\n",
        "print()\n",
        "print('O segundo elemento da lista é do tipo:', type(lista[1]))\n",
        "print()\n",
        "print('O terceiro elemento da lista é do tipo:', type(lista[2]))"
      ],
      "execution_count": 4,
      "outputs": [
        {
          "output_type": "stream",
          "name": "stdout",
          "text": [
            "O primeiro elemento da lista é do tipo: <class 'str'>\n",
            "\n",
            "O segundo elemento da lista é do tipo: <class 'int'>\n",
            "\n",
            "O terceiro elemento da lista é do tipo: <class 'builtin_function_or_method'>\n"
          ]
        }
      ]
    },
    {
      "cell_type": "markdown",
      "source": [
        "###Métodos de LISTAS"
      ],
      "metadata": {
        "id": "g-GMCZnwOOZ8"
      }
    },
    {
      "cell_type": "code",
      "source": [
        "#cria lista \"nomes\"\n",
        "nomes = ['Ana', 'Débora', 'Raquel']"
      ],
      "metadata": {
        "id": "vd8szDGcOWKu"
      },
      "execution_count": 5,
      "outputs": []
    },
    {
      "cell_type": "markdown",
      "source": [
        "**append( )**\n",
        "\n",
        "Acrescenta um novo elemento no final de uma lista já existente."
      ],
      "metadata": {
        "id": "_5Vmlc8POpR1"
      }
    },
    {
      "cell_type": "code",
      "source": [
        "nomes.append('Rebeca')\n",
        "nomes"
      ],
      "metadata": {
        "colab": {
          "base_uri": "https://localhost:8080/"
        },
        "id": "HToCOV5uOooN",
        "outputId": "f199a271-1037-425b-c655-4da08894a062"
      },
      "execution_count": 6,
      "outputs": [
        {
          "output_type": "execute_result",
          "data": {
            "text/plain": [
              "['Ana', 'Débora', 'Raquel', 'Rebeca']"
            ]
          },
          "metadata": {},
          "execution_count": 6
        }
      ]
    },
    {
      "cell_type": "markdown",
      "source": [
        "**pop( )**\n",
        "\n",
        "Remove e retorna um elemento de uma lista já existente.\n",
        "Pode receber como parâmetro o índice do elemento que se deseja remover.\n"
      ],
      "metadata": {
        "id": "IlTc9ZC9O-NA"
      }
    },
    {
      "cell_type": "code",
      "source": [
        "nomes2 = ['Fernão', 'Vasco', 'Pedro', 'Diogo', 'Gil']"
      ],
      "metadata": {
        "id": "_vo8NwhVUoyk"
      },
      "execution_count": 7,
      "outputs": []
    },
    {
      "cell_type": "markdown",
      "source": [
        "Sem passar parâmetro para a função: retorna e remove o último item da lista"
      ],
      "metadata": {
        "id": "SbJW0yUzVDpz"
      }
    },
    {
      "cell_type": "code",
      "source": [
        "nomes2.pop()"
      ],
      "metadata": {
        "colab": {
          "base_uri": "https://localhost:8080/",
          "height": 36
        },
        "id": "iUKJAug8VlcQ",
        "outputId": "74bcd198-65e3-40ed-9173-aa4a28862223"
      },
      "execution_count": 8,
      "outputs": [
        {
          "output_type": "execute_result",
          "data": {
            "application/vnd.google.colaboratory.intrinsic+json": {
              "type": "string"
            },
            "text/plain": [
              "'Gil'"
            ]
          },
          "metadata": {},
          "execution_count": 8
        }
      ]
    },
    {
      "cell_type": "code",
      "source": [
        "nomes2"
      ],
      "metadata": {
        "colab": {
          "base_uri": "https://localhost:8080/"
        },
        "id": "M81Ro6HpWTZS",
        "outputId": "71ea7c73-396f-47ee-e375-b25c12014829"
      },
      "execution_count": 9,
      "outputs": [
        {
          "output_type": "execute_result",
          "data": {
            "text/plain": [
              "['Fernão', 'Vasco', 'Pedro', 'Diogo']"
            ]
          },
          "metadata": {},
          "execution_count": 9
        }
      ]
    },
    {
      "cell_type": "markdown",
      "source": [
        "Ao passar o índice do elemento como parâmetro para a função:"
      ],
      "metadata": {
        "id": "LCqNtFi4WFhC"
      }
    },
    {
      "cell_type": "code",
      "metadata": {
        "colab": {
          "base_uri": "https://localhost:8080/"
        },
        "id": "mNwXizSBJwsN",
        "outputId": "a4d20488-0f1e-45dd-b818-c48b3e6a25a5"
      },
      "source": [
        "#retira o nome da terciera posição (índice = 2)\n",
        "nomes2.pop(2)\n",
        "nomes2"
      ],
      "execution_count": 10,
      "outputs": [
        {
          "output_type": "execute_result",
          "data": {
            "text/plain": [
              "['Fernão', 'Vasco', 'Diogo']"
            ]
          },
          "metadata": {},
          "execution_count": 10
        }
      ]
    },
    {
      "cell_type": "markdown",
      "source": [
        "**count( )**\n",
        "\n",
        "Retorna o número de ocorrências de um elemento."
      ],
      "metadata": {
        "id": "hILSGQBEQHLK"
      }
    },
    {
      "cell_type": "code",
      "metadata": {
        "id": "_jIuOGuoJ6r4"
      },
      "source": [
        "nomes3 = ('Chrissie', 'Stevie', 'Pat', 'Kate', 'Pat', 'Ann')"
      ],
      "execution_count": 11,
      "outputs": []
    },
    {
      "cell_type": "code",
      "source": [
        "nomes3.count('Stevie')"
      ],
      "metadata": {
        "colab": {
          "base_uri": "https://localhost:8080/"
        },
        "id": "j-NHLfjaQqna",
        "outputId": "9ff80078-f489-4453-909c-24306deb9f1d"
      },
      "execution_count": 12,
      "outputs": [
        {
          "output_type": "execute_result",
          "data": {
            "text/plain": [
              "1"
            ]
          },
          "metadata": {},
          "execution_count": 12
        }
      ]
    },
    {
      "cell_type": "code",
      "source": [
        "nomes3.count('Sarah')"
      ],
      "metadata": {
        "colab": {
          "base_uri": "https://localhost:8080/"
        },
        "id": "fy6hpfF7X6sk",
        "outputId": "cefebf80-627c-4686-8039-d4e54988df39"
      },
      "execution_count": 13,
      "outputs": [
        {
          "output_type": "execute_result",
          "data": {
            "text/plain": [
              "0"
            ]
          },
          "metadata": {},
          "execution_count": 13
        }
      ]
    },
    {
      "cell_type": "code",
      "source": [
        "nomes3.count('Pat')"
      ],
      "metadata": {
        "colab": {
          "base_uri": "https://localhost:8080/"
        },
        "id": "yQRheOPCYAFk",
        "outputId": "4c606c45-e1dd-4d50-8531-dcc4e8566907"
      },
      "execution_count": 14,
      "outputs": [
        {
          "output_type": "execute_result",
          "data": {
            "text/plain": [
              "2"
            ]
          },
          "metadata": {},
          "execution_count": 14
        }
      ]
    },
    {
      "cell_type": "markdown",
      "metadata": {
        "id": "mDWDttcjSvJo"
      },
      "source": [
        "##SETS (CONJUNTOS)\n",
        "\n",
        "Agora, vamos abordar de forma mais sucinta o obejto **set**, ou **conjunto** em português.\n",
        "\n",
        "Em Python, **conjuntos** são coleções de elementos únicos, guardados de forma não ordenada, isto é, os elementos não possuem indexação."
      ]
    },
    {
      "cell_type": "markdown",
      "source": [
        "Conjuntos são criados através de **chaves { }**, dentro das quais os elementos são colocados."
      ],
      "metadata": {
        "id": "upIs16kTf0ov"
      }
    },
    {
      "cell_type": "code",
      "metadata": {
        "id": "1CSUtxfCS8sA",
        "colab": {
          "base_uri": "https://localhost:8080/"
        },
        "outputId": "e8316f8d-af01-4809-b22b-e9cbf5d8a6fc"
      },
      "source": [
        "árvores1 ={'ipê', 'paineira', 'garapuvu', 'embaúba', 'araucária'}\n",
        "árvores1"
      ],
      "execution_count": 15,
      "outputs": [
        {
          "output_type": "execute_result",
          "data": {
            "text/plain": [
              "{'araucária', 'embaúba', 'garapuvu', 'ipê', 'paineira'}"
            ]
          },
          "metadata": {},
          "execution_count": 15
        }
      ]
    },
    {
      "cell_type": "code",
      "metadata": {
        "id": "syY3U4iTaP_D",
        "colab": {
          "base_uri": "https://localhost:8080/"
        },
        "outputId": "5e96e69d-58f0-4d2c-f5a0-3ea37d88be6d"
      },
      "source": [
        "árvores2 = {'araucária', 'pau-brasil', 'garapeira', 'ipê', 'angelim'}\n",
        "árvores2"
      ],
      "execution_count": 16,
      "outputs": [
        {
          "output_type": "execute_result",
          "data": {
            "text/plain": [
              "{'angelim', 'araucária', 'garapeira', 'ipê', 'pau-brasil'}"
            ]
          },
          "metadata": {},
          "execution_count": 16
        }
      ]
    },
    {
      "cell_type": "markdown",
      "source": [
        "###Métodos dos CONJUNTOS"
      ],
      "metadata": {
        "id": "VubJd9Q4ia_m"
      }
    },
    {
      "cell_type": "markdown",
      "source": [
        "Os conjuntos em Python possuem as mesmas propriedades que os conjuntos matemáticos, e algumas das operações com conjuntos estão implementadas como métodos dos objetos conjuntos em Python."
      ],
      "metadata": {
        "id": "5YA4GFMRiE5H"
      }
    },
    {
      "cell_type": "markdown",
      "source": [
        "**interssection( )**\n",
        "\n",
        "Retorna os elementos resultantes da intersecção entre os conjuntos."
      ],
      "metadata": {
        "id": "yq95M2_zjCfl"
      }
    },
    {
      "cell_type": "code",
      "metadata": {
        "id": "ZhNd4N51bBcm",
        "colab": {
          "base_uri": "https://localhost:8080/"
        },
        "outputId": "4e0cf7a0-ab7b-4701-94e5-df2b953c5a9e"
      },
      "source": [
        "árvores1.intersection(árvores2)"
      ],
      "execution_count": 17,
      "outputs": [
        {
          "output_type": "execute_result",
          "data": {
            "text/plain": [
              "{'araucária', 'ipê'}"
            ]
          },
          "metadata": {},
          "execution_count": 17
        }
      ]
    },
    {
      "cell_type": "markdown",
      "source": [
        "**union( )**\n",
        "\n",
        "Retorna o conjunto resultante a união entre dois conjuntos."
      ],
      "metadata": {
        "id": "SMEL7Ge-RxE-"
      }
    },
    {
      "cell_type": "code",
      "source": [
        "árvores1.union(árvores2)"
      ],
      "metadata": {
        "colab": {
          "base_uri": "https://localhost:8080/"
        },
        "id": "ULRJGAYljOpX",
        "outputId": "f8716eba-4f66-45e0-fc5a-7aed6ad58b3a"
      },
      "execution_count": 18,
      "outputs": [
        {
          "output_type": "execute_result",
          "data": {
            "text/plain": [
              "{'angelim',\n",
              " 'araucária',\n",
              " 'embaúba',\n",
              " 'garapeira',\n",
              " 'garapuvu',\n",
              " 'ipê',\n",
              " 'paineira',\n",
              " 'pau-brasil'}"
            ]
          },
          "metadata": {},
          "execution_count": 18
        }
      ]
    },
    {
      "cell_type": "markdown",
      "source": [
        "**difference( )**\n",
        "\n",
        "Retorna o conjuntos dos elementos resultante da diferença entre dois conjuntos."
      ],
      "metadata": {
        "id": "EcYvPv0GSCs1"
      }
    },
    {
      "cell_type": "code",
      "source": [
        "árvores1.difference(árvores2)"
      ],
      "metadata": {
        "colab": {
          "base_uri": "https://localhost:8080/"
        },
        "id": "9cxMjhs6jX4t",
        "outputId": "69f00649-8a12-4fc1-c493-608b8ffc3137"
      },
      "execution_count": 19,
      "outputs": [
        {
          "output_type": "execute_result",
          "data": {
            "text/plain": [
              "{'embaúba', 'garapuvu', 'paineira'}"
            ]
          },
          "metadata": {},
          "execution_count": 19
        }
      ]
    },
    {
      "cell_type": "markdown",
      "metadata": {
        "id": "fmdVqC1cbQ3S"
      },
      "source": [
        "##IMPORTANDO MÓDULOS\n",
        "\n",
        "Um **módulo** é um arquivo contendo definições e comandos em Python para serem usados em outros programas em Python.\n",
        "\n",
        "Outra forma de entender o que é um módulo é pensá-lo como um conjunto de funções pré-cosntruídas que facilitam a execução de diversas tarefas. \n",
        "\n",
        "Exemplo: Se você precisar calcular o fatorial de um número, você pode escrever um código que execute esta tarefa, ou simplesmente chamar a função *math*.**factorial(x)** do módulo **math**.\n",
        "\n",
        "Para utilzar os conteúdos de um módulo, é preciso importá-lo utilizando o comando **import**. Para isso, é necessário que o módulo já esteja instalado no ambiente de desenvolvimento.\n",
        "\n",
        "Vantajosamente, o COLAB possui diversos módulos previamente instalados."
      ]
    },
    {
      "cell_type": "markdown",
      "source": [
        "Para saber mais sobre módulos consulte o material no link abaixo:\n",
        "\n",
        "[MÓDULOS - Pense como um Cientista da Computação com Python](https://panda.ime.usp.br/pensepy/static/pensepy/04-Modulos/modulos.html)"
      ],
      "metadata": {
        "id": "MoJORzB29Kpf"
      }
    },
    {
      "cell_type": "markdown",
      "metadata": {
        "id": "zztKg2xZbbx4"
      },
      "source": [
        "### Módulo RANDOM \n",
        "\n",
        "Vamos importar o módulo **RANDOM**, que permite gerar e fazer coisas com números aleatórios.\n",
        "\n",
        "\n",
        "\n"
      ]
    },
    {
      "cell_type": "code",
      "metadata": {
        "id": "9wpjTWs0RDGg"
      },
      "source": [
        "#importa módulo RANDOM\n",
        "import random"
      ],
      "execution_count": 20,
      "outputs": []
    },
    {
      "cell_type": "code",
      "metadata": {
        "id": "TsO8OXaKdXo5"
      },
      "source": [
        "#fornece informações sobre o objeto\n",
        "?random"
      ],
      "execution_count": 21,
      "outputs": []
    },
    {
      "cell_type": "markdown",
      "source": [
        "####Funções do módulo Random"
      ],
      "metadata": {
        "id": "IHQCeG2GSXxV"
      }
    },
    {
      "cell_type": "markdown",
      "source": [
        "**sample(seq, k)**\n",
        "\n",
        "Retira uma amostra aleatória de $k$ valores de uma sequência de valores.\n",
        "\n",
        "Recebe como **parâmetros** a **sequência de valores (seq)**, e o **tamanho de amostra $k$**."
      ],
      "metadata": {
        "id": "Uwk9UWKrRDUp"
      }
    },
    {
      "cell_type": "code",
      "source": [
        "#gera uma sequência numérica com a função range e os armazena na lista seq\n",
        "seq = list(range(1, 10, 2))\n",
        "seq"
      ],
      "metadata": {
        "colab": {
          "base_uri": "https://localhost:8080/"
        },
        "id": "L0vyaYfaTMPS",
        "outputId": "90b235ef-2526-4f4a-84b7-54378b83fd2f"
      },
      "execution_count": 22,
      "outputs": [
        {
          "output_type": "execute_result",
          "data": {
            "text/plain": [
              "[1, 3, 5, 7, 9]"
            ]
          },
          "metadata": {},
          "execution_count": 22
        }
      ]
    },
    {
      "cell_type": "markdown",
      "source": [
        ""
      ],
      "metadata": {
        "id": "eCjb8zjsW28m"
      }
    },
    {
      "cell_type": "code",
      "metadata": {
        "id": "pVWGZGTYggLt",
        "colab": {
          "base_uri": "https://localhost:8080/"
        },
        "outputId": "e9b0290b-74f3-4f9f-a945-949167175901"
      },
      "source": [
        "#retira uma uma amostra de 3 elementos da sequência de valores\n",
        "random.sample(seq, k=3)"
      ],
      "execution_count": 23,
      "outputs": [
        {
          "output_type": "execute_result",
          "data": {
            "text/plain": [
              "[7, 1, 3]"
            ]
          },
          "metadata": {},
          "execution_count": 23
        }
      ]
    },
    {
      "cell_type": "code",
      "metadata": {
        "id": "EeDiXDFdhR2M",
        "colab": {
          "base_uri": "https://localhost:8080/"
        },
        "outputId": "1ec24caf-cf2f-4f16-ef96-e08f7e955a4c"
      },
      "source": [
        "random.sample(range(1, 61), k=6) "
      ],
      "execution_count": 24,
      "outputs": [
        {
          "output_type": "execute_result",
          "data": {
            "text/plain": [
              "[35, 13, 6, 30, 33, 26]"
            ]
          },
          "metadata": {},
          "execution_count": 24
        }
      ]
    },
    {
      "cell_type": "markdown",
      "source": [
        "##Simulando o jogo da Mega-Sena"
      ],
      "metadata": {
        "id": "fxhyicwRYMNf"
      }
    },
    {
      "cell_type": "markdown",
      "source": [
        "Primeiro, precisamos criar um sequência numérica de 1 a 60, que represente a grade de número da mega-sena.\n",
        "\n",
        "Faremos isso usando a função nativa do python **range( )**"
      ],
      "metadata": {
        "id": "SE0ljYcT7NDq"
      }
    },
    {
      "cell_type": "code",
      "source": [
        "#cria grade de 60 números da mega-sena\n",
        "grade = range(1, 61)"
      ],
      "metadata": {
        "id": "U1zjZLXwYZH8"
      },
      "execution_count": 25,
      "outputs": []
    },
    {
      "cell_type": "markdown",
      "source": [
        "Agora é preciso simular o sorteio de 6 números da mega-sena, e para isso usaremos a função **sample(seq, k)** do módulo random, que retorna um objeto do tipo **lista** contendo os números sorteados."
      ],
      "metadata": {
        "id": "zm0FSK8n7kxF"
      }
    },
    {
      "cell_type": "code",
      "metadata": {
        "id": "MubujRa9iBkg",
        "colab": {
          "base_uri": "https://localhost:8080/"
        },
        "outputId": "fbb495c4-79d9-4af5-e3e9-2a89eb51be77"
      },
      "source": [
        "#simula o sorteio de 6 números retirados da grade de 60\n",
        "sorteio=random.sample(grade, k=6) \n",
        "sorteio"
      ],
      "execution_count": 26,
      "outputs": [
        {
          "output_type": "execute_result",
          "data": {
            "text/plain": [
              "[13, 21, 25, 60, 30, 41]"
            ]
          },
          "metadata": {},
          "execution_count": 26
        }
      ]
    },
    {
      "cell_type": "markdown",
      "source": [
        "###Adendo sobre uso de objetos adequados."
      ],
      "metadata": {
        "id": "-SuDmkhq5I16"
      }
    },
    {
      "cell_type": "markdown",
      "source": [
        "Bem, para sabermos se nosso jogo é o vencedor, precisamos verificar se ele possui os mesmos números do sorteiro. \n",
        "\n",
        "Vejamos o que acontece quando verificamos a igualdade das listas abaixo:"
      ],
      "metadata": {
        "id": "qUsRDpI313jG"
      }
    },
    {
      "cell_type": "code",
      "source": [
        "list1 = [2, 4, 3, 6] \n",
        "list2 = [2, 3, 4, 6]\n",
        "list3 = [2, 4, 3, 6]"
      ],
      "metadata": {
        "id": "3ug1r7WI2dAq"
      },
      "execution_count": 27,
      "outputs": []
    },
    {
      "cell_type": "markdown",
      "source": [
        "Repare que as três listas possuem os mesmos elementos, mas a **list2** possui os elementos e ordem diferente."
      ],
      "metadata": {
        "id": "kx0ydG423G6l"
      }
    },
    {
      "cell_type": "code",
      "source": [
        "list1 == list2"
      ],
      "metadata": {
        "colab": {
          "base_uri": "https://localhost:8080/"
        },
        "id": "aph0S-9J2v5V",
        "outputId": "1136de47-d6bb-44c1-ca0d-dca8437bd3b3"
      },
      "execution_count": 28,
      "outputs": [
        {
          "output_type": "execute_result",
          "data": {
            "text/plain": [
              "False"
            ]
          },
          "metadata": {},
          "execution_count": 28
        }
      ]
    },
    {
      "cell_type": "code",
      "source": [
        "list1 == list3"
      ],
      "metadata": {
        "colab": {
          "base_uri": "https://localhost:8080/"
        },
        "id": "3CTzT2hX2zN5",
        "outputId": "9f865639-8723-42b3-e35b-c963cfa8e987"
      },
      "execution_count": 29,
      "outputs": [
        {
          "output_type": "execute_result",
          "data": {
            "text/plain": [
              "True"
            ]
          },
          "metadata": {},
          "execution_count": 29
        }
      ]
    },
    {
      "cell_type": "markdown",
      "source": [
        "Para que a igualdade entre listas seja verdadeira, elas devem possuir os mesmos elementos nas mesmas posições."
      ],
      "metadata": {
        "id": "4GAb2ZMA3dui"
      }
    },
    {
      "cell_type": "markdown",
      "source": [
        "Agora vejamos o que ocorre quando armazenamos os mesmos valores em conjuntos (sets):"
      ],
      "metadata": {
        "id": "d1VyEvMW388N"
      }
    },
    {
      "cell_type": "code",
      "source": [
        "set1 = {2, 4, 3, 6}\n",
        "set2 = {2, 3, 4, 6}\n",
        "set3 = {2, 4, 3, 6}"
      ],
      "metadata": {
        "id": "-awOIgo54EOw"
      },
      "execution_count": 30,
      "outputs": []
    },
    {
      "cell_type": "code",
      "source": [
        "set1 == set2"
      ],
      "metadata": {
        "colab": {
          "base_uri": "https://localhost:8080/"
        },
        "id": "m-JW3XMq4OsZ",
        "outputId": "18b0d366-873c-4694-b23f-1dece7cf4dbc"
      },
      "execution_count": 31,
      "outputs": [
        {
          "output_type": "execute_result",
          "data": {
            "text/plain": [
              "True"
            ]
          },
          "metadata": {},
          "execution_count": 31
        }
      ]
    },
    {
      "cell_type": "code",
      "source": [
        "set1 == set3"
      ],
      "metadata": {
        "colab": {
          "base_uri": "https://localhost:8080/"
        },
        "id": "m1MWkSGy4SM6",
        "outputId": "18779e2d-d826-496d-ab50-f6e2df5fa321"
      },
      "execution_count": 32,
      "outputs": [
        {
          "output_type": "execute_result",
          "data": {
            "text/plain": [
              "True"
            ]
          },
          "metadata": {},
          "execution_count": 32
        }
      ]
    },
    {
      "cell_type": "markdown",
      "source": [
        "Como os conjuntos guardam elementos de forma não ordenada, para que dois conjuntos sejam iguais, basta que possuam os mesmos elementos.\n",
        "\n",
        "E por isso, este objeto é mais interessante para nossa simulação da mega-sena."
      ],
      "metadata": {
        "id": "JECqkZmh4mSf"
      }
    },
    {
      "cell_type": "markdown",
      "source": [
        "###Retomando a simulação"
      ],
      "metadata": {
        "id": "xDEAc8_i9SQA"
      }
    },
    {
      "cell_type": "markdown",
      "source": [
        "A função nativa do python **set( )** transforma uma sequência de elementos em um conjunto."
      ],
      "metadata": {
        "id": "10fyHD4r8oBD"
      }
    },
    {
      "cell_type": "code",
      "metadata": {
        "id": "L7lPTpjji8wp",
        "colab": {
          "base_uri": "https://localhost:8080/"
        },
        "outputId": "b61c43a1-1d0a-4b67-cce8-655c523bb0f4"
      },
      "source": [
        "#transforma a lista sorteio em um conjunto\n",
        "set(sorteio)"
      ],
      "execution_count": 33,
      "outputs": [
        {
          "output_type": "execute_result",
          "data": {
            "text/plain": [
              "{13, 21, 25, 30, 41, 60}"
            ]
          },
          "metadata": {},
          "execution_count": 33
        }
      ]
    },
    {
      "cell_type": "code",
      "metadata": {
        "id": "3-_jGubdjFDv",
        "colab": {
          "base_uri": "https://localhost:8080/"
        },
        "outputId": "bb438a44-88a5-4b0e-a7a4-1dd6bb455a70"
      },
      "source": [
        "#reescrevendo o objeto sorteio para maior facilidade\n",
        "sorteio=set(random.sample(grade, k=6))\n",
        "sorteio"
      ],
      "execution_count": 34,
      "outputs": [
        {
          "output_type": "execute_result",
          "data": {
            "text/plain": [
              "{7, 8, 13, 22, 27, 48}"
            ]
          },
          "metadata": {},
          "execution_count": 34
        }
      ]
    },
    {
      "cell_type": "markdown",
      "source": [
        "Agora vamos criar o objeto que simulará o seu jogo:"
      ],
      "metadata": {
        "id": "AJWYLfpR90z4"
      }
    },
    {
      "cell_type": "code",
      "source": [
        "seujogo = []\n",
        "\n",
        "for i in range(1, 7):\n",
        "  numero = int(input('Digite um número do seu jogo:'))\n",
        "  seujogo.append(numero)\n",
        "\n",
        "seujogo = set(seujogo)\n",
        "print()\n",
        "print('Seu jogo é:', seujogo)"
      ],
      "metadata": {
        "colab": {
          "base_uri": "https://localhost:8080/"
        },
        "id": "ni7WassF90HK",
        "outputId": "4b0f3c24-73c0-41b2-dc2b-b0a919dd01c8"
      },
      "execution_count": 35,
      "outputs": [
        {
          "output_type": "stream",
          "name": "stdout",
          "text": [
            "Digite um número do seu jogo:10\n",
            "Digite um número do seu jogo:9\n",
            "Digite um número do seu jogo:25\n",
            "Digite um número do seu jogo:24\n",
            "Digite um número do seu jogo:60\n",
            "Digite um número do seu jogo:58\n",
            "\n",
            "Seu jogo é: {9, 10, 24, 25, 58, 60}\n"
          ]
        }
      ]
    },
    {
      "cell_type": "markdown",
      "source": [
        "Agora vamos comparar o resultado do seu jogo com o resultado do sorteio, utilizando o método **intersection( )**."
      ],
      "metadata": {
        "id": "plAZf_91L0sx"
      }
    },
    {
      "cell_type": "code",
      "metadata": {
        "id": "-QzeMBivm0Xv",
        "colab": {
          "base_uri": "https://localhost:8080/"
        },
        "outputId": "aa58f8dc-8c01-481f-e20d-62196902f382"
      },
      "source": [
        "#verifica se seujogo e sorteio possuem elementos em comum\n",
        "acertos = seujogo.intersection(sorteio)\n",
        "if acertos == set():\n",
        "  print(\"Você não acertou nenhum número.\")\n",
        "else:\n",
        "  print(\"Você acertou os seguintes números: \", acertos)"
      ],
      "execution_count": 36,
      "outputs": [
        {
          "output_type": "stream",
          "name": "stdout",
          "text": [
            "Você não acertou nenhum número.\n"
          ]
        }
      ]
    },
    {
      "cell_type": "markdown",
      "source": [
        "**Refatorando**"
      ],
      "metadata": {
        "id": "Bpa1FrPjtMoR"
      }
    },
    {
      "cell_type": "code",
      "source": [
        "def seujogo():\n",
        "  seujogo = []\n",
        "  for i in range(1, 7):\n",
        "    numero = int(input('Digite um número do seu jogo:'))\n",
        "    seujogo.append(numero)\n",
        "  seujogo = set(seujogo)\n",
        "  print()\n",
        "  print('Seu jogo é:', seujogo)\n",
        "  return(seujogo)\n",
        "\n",
        "def sorteio():\n",
        "  grade = range(1, 61)\n",
        "  sorteio=random.sample(grade, k=6) \n",
        "  print('Os números sorteados são:', sorteio)\n",
        "  return(sorteio)\n",
        "\n",
        "def mega_sena():\n",
        "  acertos = seujogo().intersection(sorteio())\n",
        "  if acertos == set():\n",
        "    print(\"Você não acertou nenhum número.\")\n",
        "  else:\n",
        "    print(\"Você acertou os seguintes números:\", acertos)\n",
        "\n",
        "mega_sena()"
      ],
      "metadata": {
        "colab": {
          "base_uri": "https://localhost:8080/"
        },
        "id": "6VJ1wfnGtii3",
        "outputId": "30da224d-c007-43d0-899e-47acc84ffc49"
      },
      "execution_count": 42,
      "outputs": [
        {
          "output_type": "stream",
          "name": "stdout",
          "text": [
            "Digite um número do seu jogo:33\n",
            "Digite um número do seu jogo:25\n",
            "Digite um número do seu jogo:22\n",
            "Digite um número do seu jogo:32\n",
            "Digite um número do seu jogo:41\n",
            "Digite um número do seu jogo:42\n",
            "\n",
            "Seu jogo é: {32, 33, 41, 42, 22, 25}\n",
            "Os números sorteados são: [39, 24, 48, 46, 59, 2]\n",
            "Você não acertou nenhum número.\n"
          ]
        }
      ]
    },
    {
      "cell_type": "markdown",
      "source": [
        "E se eu fizesse o mesmo jogo em $n$ sorteios da mega-sena?"
      ],
      "metadata": {
        "id": "xt52c4-vzpsa"
      }
    },
    {
      "cell_type": "code",
      "source": [
        "#define a grande de 60 inteiros\n",
        "grade = range(1, 61)\n",
        "quadra = 0\n",
        "quina = 0\n",
        "sena = 0\n",
        "\n",
        "#intro\n",
        "print('Olá, \\nEste programa gera automaticamente um jogo da mega sena para você.'\n",
        "      '\\nA seguir ele simula N sorteios e verifica quantas vezes você faria'\n",
        "      'quadra,quina ou sena.')\n",
        "\n",
        "n = int(input('Digite o número N de sorteios que você deseja simular:'))\n",
        "\n",
        "#cria seujogo\n",
        "seujogo = set(random.sample(grade, k=6))\n",
        "print()\n",
        "print('Seu jogo é:', seujogo)\n",
        "\n",
        "#repete n sorteios\n",
        "for i in range(0, n+1):\n",
        "  sorteio = set(random.sample(grade, k=6))\n",
        "  acertos = seujogo.intersection(sorteio)\n",
        "  acertos = list(acertos)\n",
        "\n",
        "  #atualiza variáveis  \n",
        "  if len(acertos) == 4:\n",
        "    quadra = quadra + 1\n",
        "  if len(acertos) == 5:\n",
        "    quina = quina + 1\n",
        "  if len(acertos) == 6:\n",
        "    sena = sena + 1\n",
        "\n",
        "print('Você fez:')\n",
        "print()\n",
        "print(quadra, 'quadras.')\n",
        "print(quina, 'quinas.')\n",
        "print(sena, 'senas')\n"
      ],
      "metadata": {
        "colab": {
          "base_uri": "https://localhost:8080/"
        },
        "id": "lX7QIA0CzoxV",
        "outputId": "c520c83c-b9a6-4e2d-905d-899ad84067aa"
      },
      "execution_count": 64,
      "outputs": [
        {
          "output_type": "stream",
          "name": "stdout",
          "text": [
            "Olá, \n",
            "Este programa gera automaticamente um jogo da mega sena para você.\n",
            "A seguir ele simula N sorteios e verifica quantas vezes você fariaquadra,quina ou sena.\n",
            "Digite o número N de sorteios que você deseja simular:51000000\n",
            "\n",
            "Seu jogo é: {37, 5, 40, 9, 14, 23}\n",
            "Você fez:\n",
            "\n",
            "21701 quadras.\n",
            "337 quinas.\n",
            "0 senas\n"
          ]
        }
      ]
    }
  ]
}